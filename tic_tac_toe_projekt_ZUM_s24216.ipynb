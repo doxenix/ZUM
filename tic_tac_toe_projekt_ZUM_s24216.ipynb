{
  "nbformat": 4,
  "nbformat_minor": 0,
  "metadata": {
    "colab": {
      "provenance": [],
      "collapsed_sections": [],
      "include_colab_link": true
    },
    "kernelspec": {
      "name": "python3",
      "display_name": "Python 3"
    }
  },
  "cells": [
    {
      "cell_type": "markdown",
      "metadata": {
        "id": "view-in-github",
        "colab_type": "text"
      },
      "source": [
        "<a href=\"https://colab.research.google.com/github/doxenix/ZUM/blob/main/tic_tac_toe_projekt_ZUM_s24216.ipynb\" target=\"_parent\"><img src=\"https://colab.research.google.com/assets/colab-badge.svg\" alt=\"Open In Colab\"/></a>"
      ]
    },
    {
      "cell_type": "markdown",
      "source": [
        "# INVISIBLE TIC-TAC-TOE\n",
        "## Projekt zaliczeniowy z przedmiotu ZUM\n",
        "\n",
        "***INVISIBLE TIC TACK TOE*** to aplikacja która umożliwia grę w kółko i krzyżyk za pomocą mowy. Nie trzeba używać do tego klawiatury i myszki (oczywiście przed trzeba uruchomić kod). Gra została stworzona dla dwóch graczy – jeden z nich to krzyżyk X, a drugi -  „kółko” O.\n",
        "\n",
        "Podczas rozgrywki, uruchamiane są automatycznie polecenia głosowe, dzięki którym każdy z graczy wie co ma wykonać. Po usłyszeniu komunikatu należy powiedzieć odpowiednie wyrażenie. Przykładowo, aby zacząć grę należy powiedzieć – **zaczynamy grę**. Natomiast, aby wykonać odpowiedni ruch należy wymówić, np. „**wstaw krzyżyk na pole numer dwa**”. W przypadku wykonywania ruchu, logika została opracowana w ten sposób, że wychwytywany jest odpowiedni numer pola, co oznacza, że można to powiedzieć w różny sposób – np. „**krzyżyk na jeden**”.\n",
        "\n",
        "Implementację gry umożliwił gotowy już model `facebook/wav2vec2-base-10k-voxpopuli-ft-pl`.\n",
        "\n",
        "Nagrywanie głosu użytkownika jest możliwe dzięki gotowemu już API – MediaRecorder. Fragmentu kod odpowiadający za nagrywanie głosu został napisany w JavaScript.\n",
        "\n",
        "Aby przejść do gry należy uruchomić poniższe bloki kodu i postępować z dalsza instrukcją.\n",
        "\n",
        "**Dedykowanym środowiskiem uruchomieniowym jest Google Colab**"
      ],
      "metadata": {
        "id": "YCleSKUuuLm9"
      }
    },
    {
      "cell_type": "markdown",
      "source": [
        "### Pola z numerami do gry zostały nadane w następujący sposób:\n",
        "\n",
        "![Przechwytywanie.PNG](data:image/png;base64,iVBORw0KGgoAAAANSUhEUgAAAJAAAADhCAYAAAAnODzcAAAAAXNSR0IArs4c6QAAAARnQU1BAACxjwv8YQUAAAAJcEhZcwAADsMAAA7DAcdvqGQAAAaFSURBVHhe7dwxThtNHIbx70JQUHGC3CAnoI1k0aWmoTMSbWrkgi6FKegRsguSaHsOkQNMPLsGZvlGFuz/XfwaP8VPSnYQGs8+nt3Fgv+Ojo7SwcFBOj4+Bt6NgBBCQAghIIQQEEIICCEEhBACQggBIWRjQPOmSU3VQ1pWj2e/0+/q8WyZflWPZ0PH/lSOrS1/1Y9nm8YeKsfWHpb149nQsT+VY51N6/zR52CeppVG2IEQQkAIISCEEBBC3hjQzzS5e0xfq2M+vvz4m77/uKyOOfl6ndLkvD5m49syfb9dpi+1sQIBbQEBmSIgIQLyRUCmCEiIgHwRkCkCEiIgXwRkioCECMgXAZkiICEC8kVApghISBsQUEdACCEghBAQQriJ3gKewkwRkJBrQPkkn92lV/6mk2/1r38PbUD5NZdz1L2BpAGdPxZz1Kxja2d2oDxRYZyqgF6f5DG/92Dt2hXRCNdyZwLKi6k6McqT3O2UT6+5241Uu4YsoLz7XP8sjl2mk1vRLrQTASnfMSvaS9jK8+VBeGlY0e5Axfqt5yv73u4BKXefbLQdSHliVmQBrXTzXN8DXS/3aAdqT4r2e+oCypeC/kluT1TvcjGcMqA+4XnyDqg7QdLLzYo6oPJ75ZPuHZB4Ta0DGmH3yXQBZfk1ry8N2RsW8610AXXRPM1RGuUu3AOpaQMaz3iXMCEC8kVApghISBsQUEdACCEghBAQQriJ3gKewkwRkBAB+SIgUwQkREC+CMgUAQkRkC8CMkVAQgTki4BMEZAQAfkiIFMEJERAvvYwIKCOgBBCQAghIIR8qptoCO3jUxiECAghBIQQAkIIASHkQwJ6/hNwnfJjhPyxQjlW/uheP9b/Myf9Px0zdCy/5mKst5gjjG1Yy6FjQ9e5xQ6EEAJCCAEhhIAQQkAIISCEaAMC6ggIIQSEEAJCCAEh5I0B7cZTWP58h1/rEdnHx3gCEiIgXwRkioCECMgXAZkiICEC8kVApghIiIB8EZApAhIiIF8EZIqAhAjI1x4GBNQREEIICCEEhBBuoreApzBTBCS0CwFNb5rUNIs0O62Pv5cyoMnVYjW3PL8nunnKA7qYv8zzfpYmta95L/eA2hN0M09z54BuptWxKGVAXejzNK2MhVgHdDpLi/ZFTwkoZJJm97r16/ENKL/oJs0v8r/NAyovYcKYZAGt34izcq6qeboGlE/M4mqy/r9vQH15nk0x7xhtQOW8yjdnkGdA3YnovbOfCN454wXU3fB7BtS//5HN0/0murMjO1B7onTz1N4DlTuOcD0JKKZ/D6SbY6YLaGV9GXuaq+Tyle1GQFpjXsKUpAGNhYB8EZApAhLSBgTUERBCCAghBIQQbqK3gKcwUwQkREC+CMgUAQkRkC8CMkVAQgTki4BMEZAQAfkiIFMEJERAvgjIFAEJEZCvPQwIqCMghBAQQggIIZ/qJhpC+/gUBiECQggBIYSAEEJACPmQgM4f09ldelZ+jJA/VijHyh/d68cu08nty/Gz3lyHjuXXXIz1FnOEsQ1rOXRs6Dq32IEQQkAIISCEEBBCCAghBIQQbUBAHQEhhIAQQkAI+VQ30fnH8/xWhsg+PoURkBAB+SIgUwQkREC+CMgUAQkRkC8CMkVAQgTki4BMEZAQAfkiIFMEJERAvvYwIKCOgBBCQAghIIRwE70FPIWZIiAh74Cmad40qVmZX9TGh9EGNEmz+26O2eJqUvmaYZQBTW9e5ihdT9uATmdp0SzS7LSLyDWgydXiJZrnOf//64YYbQe6mKfmfpYmtbH38r+EeQfU1+1GqrmOFVCOvrmZVsfejYCE2h1onqa1sQG0Ab3cDjTCORKQjH6eo17CVBERkIJ+jtloAbWXWtG9GgEFtZctfTwZO1BIF0756NmInnCUAb1+PG6JnnB0Ab1aS9UTWOa/A+mNdhMtNt4lTIiAfBGQKQIS0gYE1BEQQggIIQSEEG6it4CnMFMEJERAvgjIFAEJEZAvAjJFQEIE5IuATBGQEAH5IiBTBCREQL4IyBQBCRGQrz0MCKgjIIQQEEIICCGf6iYaQvv4FAYhAkIIASGEgBBCQAj5kIDOH9PZXXpWfoyQP1Yox8of3evHLtPJ7cvxs95ch47l11yM9RZzhLENazl0bOg6t9iBEEJACCEghBAQQggIIQSEEG1AQB0BIYSAEEJACCEghBAQQggIIQSEEAJCSBvQ4eFhdRDY7Dj9A8ZG/Y9jgMuxAAAAAElFTkSuQmCC)"
      ],
      "metadata": {
        "id": "Jdoi1iu-15sD"
      }
    },
    {
      "cell_type": "markdown",
      "source": [
        "## W pierwszej kolejności, zainstalujmy potrzebne nam biblioteki:"
      ],
      "metadata": {
        "id": "Cd9rCdOnyuUB"
      }
    },
    {
      "cell_type": "code",
      "source": [
        "!pip install https://github.com/huggingface/transformers/archive/refs/heads/master.zip\n",
        "!pip install gTTS"
      ],
      "metadata": {
        "id": "fglk_k0kArAQ"
      },
      "execution_count": null,
      "outputs": []
    },
    {
      "cell_type": "markdown",
      "source": [
        "## Załadujmy teraz nasz gotowy model:"
      ],
      "metadata": {
        "id": "ZN6yPBHQ07y8"
      }
    },
    {
      "cell_type": "code",
      "source": [
        "from transformers import pipeline\n",
        "\n",
        "def load_model(model_name=\"facebook/wav2vec2-base-10k-voxpopuli-ft-pl\"):\n",
        "\n",
        "    pipe = pipeline('automatic-speech-recognition', model_name)\n",
        "    return pipe\n",
        "\n",
        "load_model()"
      ],
      "metadata": {
        "id": "oY-431n9A7QQ"
      },
      "execution_count": null,
      "outputs": []
    },
    {
      "cell_type": "markdown",
      "source": [
        "## Kolejnym krokiem będzie odpalenie tego bloku kodu.\n",
        "### Umożliwi to nam wygenerowanie gotowych plików .wav które będą odtwarzane jako instrukcje do gry w formie dźwięku."
      ],
      "metadata": {
        "id": "ebKVoyxM1I-F"
      }
    },
    {
      "cell_type": "code",
      "source": [
        "from gtts import gTTS\n",
        "from IPython.display import Audio, display\n",
        "import time\n",
        "\n",
        "\n",
        "class AudioSpeaker():\n",
        "    def __init__(self, language='pl', autoplay=True):\n",
        "        self.language = language\n",
        "        self.format = format\n",
        "        self.autoplay = autoplay\n",
        "\n",
        "    def save_generated_voice(self, text, filename):\n",
        "        tts = gTTS(text, lang=self.language)\n",
        "        tts.save(filename)\n",
        "\n",
        "    def play_voice(self, filename):\n",
        "        play_voice = display(Audio(filename, autoplay=self.autoplay))\n",
        "        time.sleep(3)\n",
        "\n",
        "\n",
        "audio = AudioSpeaker()\n",
        "audio.save_generated_voice(\n",
        "    text='Czy chcesz zacząć grę?', filename='start_game.wav')\n",
        "\n",
        "audio.save_generated_voice(\n",
        "    text='Nie usłyszałem, spróbuj jeszcze raz', filename='say_it_again.wav')\n",
        "\n",
        "audio.save_generated_voice(\n",
        "    text='Wybierz pole od numeru jeden do dziewięć', filename='choice_1_9.wav')\n",
        "\n",
        "audio.save_generated_voice(\n",
        "    text='Chcesz zagrać jeszcze raz?', filename='play_again.wav')\n",
        "\n",
        "audio.save_generated_voice(\n",
        "    text='Grę zaczyna gracz krzyżyk', filename='game_start_player_X.wav')\n",
        "\n",
        "audio.save_generated_voice(\n",
        "    text='Teraz ruch gracza kółko', filename='O_turn.wav')\n",
        "\n",
        "audio.save_generated_voice(\n",
        "    text='Teraz ruch gracza krzyżyk', filename='X_turn.wav')\n",
        "\n",
        "audio.save_generated_voice(text='Pole jest już zajęte',\n",
        "                           filename='space_is_used.wav')\n",
        "\n",
        "audio.save_generated_voice(\n",
        "    text='Gratulacje, wygrał gracz krzyżyk!', filename='X_won.wav')\n",
        "\n",
        "audio.save_generated_voice(\n",
        "    text='Gratulacje, wygrał gracz kółko!', filename='O_won.wav')"
      ],
      "metadata": {
        "id": "y6IODWrXz9fs"
      },
      "execution_count": null,
      "outputs": []
    },
    {
      "cell_type": "markdown",
      "source": [
        "## Uruchomienie tego bloku kodu stworzy metodę która umozliwi nam nagrywanie naszego głosu:"
      ],
      "metadata": {
        "id": "xyEZ-7Xj4vDu"
      }
    },
    {
      "cell_type": "code",
      "source": [
        "from io import BytesIO\n",
        "from base64 import b64decode\n",
        "from google.colab import output\n",
        "from IPython.display import Javascript\n",
        "\n",
        "RECORD = \"\"\"\n",
        "const sleep  = time => new Promise(resolve => setTimeout(resolve, time))\n",
        "const b2text = blob => new Promise(resolve => {\n",
        "  const reader = new FileReader()\n",
        "  reader.onloadend = e => resolve(e.srcElement.result)\n",
        "  reader.readAsDataURL(blob)\n",
        "})\n",
        "var record = time => new Promise(async resolve => {\n",
        "  stream = await navigator.mediaDevices.getUserMedia({ audio: true })\n",
        "  recorder = new MediaRecorder(stream)\n",
        "  chunks = []\n",
        "  recorder.ondataavailable = e => chunks.push(e.data)\n",
        "  recorder.start()\n",
        "  await sleep(time)\n",
        "  recorder.onstop = async ()=>{\n",
        "    blob = new Blob(chunks)\n",
        "    text = await b2text(blob)\n",
        "    resolve(text)\n",
        "  }\n",
        "  recorder.stop()\n",
        "})\n",
        "\"\"\"\n",
        "\n",
        "\n",
        "def record(sec=3):\n",
        "    print(\"Mów teraz...\")\n",
        "    display(Javascript(RECORD))\n",
        "    sec += 1\n",
        "    s = output.eval_js('record(%d)' % (sec*1000))\n",
        "    print(\"Koniec Nagrywania !\")\n",
        "    b = b64decode(s.split(',')[1])\n",
        "    return b  # byte stream\n",
        "\n",
        "\n",
        "def say_and_predict():    \n",
        "    audio = record(3)\n",
        "    model = pipeline(\"automatic-speech-recognition\",\n",
        "                     \"facebook/wav2vec2-base-10k-voxpopuli-ft-pl\")\n",
        "    predict = model(audio)\n",
        "    prediction = list(predict.values())[0]\n",
        "    print(prediction)\n",
        "    return prediction\n"
      ],
      "metadata": {
        "id": "FZeP6xVB0Kb_"
      },
      "execution_count": null,
      "outputs": []
    },
    {
      "cell_type": "markdown",
      "source": [
        "## I to tyle, jesteście gotowi do gry. Aby rozpocząć uruchom poniższy kod. \n",
        "\n",
        "Usłyszysz komunikat: **czy chcesz zaczać grę?**\n",
        "\n",
        "Aby zacząć musisz powiedzieć: \n",
        "\n",
        "`zaczynamy grę`\n",
        "\n",
        "Potem postępujcie zgodnie z instrukcjami i wstawiajcie X lub O na odpowiednie pola za pomocą Waszego głosu.\n",
        "\n",
        "Gdy dana rozgrywka zostanie zakończona usłyszysz: \n",
        "\n",
        "**czy chcesz zagrać jeszcze raz?**\n",
        "\n",
        "Powiedz wtedy `tak` lub `nie`\n",
        "\n",
        "# UDANEJ ROZGRYWKI!"
      ],
      "metadata": {
        "id": "J3znNCc64-38"
      }
    },
    {
      "cell_type": "code",
      "source": [
        "def display_board(board):\n",
        "    blankBoard = \"\"\"\n",
        "___________________\n",
        "|     |     |     |\n",
        "|  7  |  8  |  9  |\n",
        "|     |     |     |\n",
        "|-----------------|\n",
        "|     |     |     |\n",
        "|  4  |  5  |  6  |\n",
        "|     |     |     |\n",
        "|-----------------|\n",
        "|     |     |     |\n",
        "|  1  |  2  |  3  |\n",
        "|     |     |     |\n",
        "|-----------------|\n",
        "\"\"\"\n",
        "\n",
        "    for i in range(1, 10):\n",
        "        if (board[i] == 'O' or board[i] == 'X'):\n",
        "            blankBoard = blankBoard.replace(str(i), board[i])\n",
        "        else:\n",
        "            blankBoard = blankBoard.replace(str(i), ' ')\n",
        "    print(blankBoard)\n",
        "\n",
        "\n",
        "def start_game():\n",
        "    read_to_play = False\n",
        "    while not read_to_play:\n",
        "        audio.play_voice(filename='start_game.wav')\n",
        "        prediction = say_and_predict()\n",
        "        if prediction in ('zaczynamy gre', 'zaczynamy grę'):\n",
        "            player1 = 'X'\n",
        "            player2 = 'O'\n",
        "            audio.play_voice(filename='game_start_player_X.wav')\n",
        "            return player1, player2\n",
        "        else:\n",
        "            audio.play_voice(filename='say_it_again.wav')\n",
        "\n",
        "\n",
        "def place_marker(board, marker, position):\n",
        "    board[position] = marker\n",
        "    return board\n",
        "\n",
        "\n",
        "def space_check(board, position):\n",
        "    return board[position] == '#'\n",
        "\n",
        "\n",
        "def full_board_check(board):\n",
        "    return len([x for x in board if x == '#']) == 1\n",
        "\n",
        "\n",
        "def win_check(board, mark):\n",
        "    if board[1] == board[2] == board[3] == mark:\n",
        "        return True\n",
        "    if board[4] == board[5] == board[6] == mark:\n",
        "        return True\n",
        "    if board[7] == board[8] == board[9] == mark:\n",
        "        return True\n",
        "    if board[1] == board[4] == board[7] == mark:\n",
        "        return True\n",
        "    if board[2] == board[5] == board[8] == mark:\n",
        "        return True\n",
        "    if board[3] == board[6] == board[9] == mark:\n",
        "        return True\n",
        "    if board[1] == board[5] == board[9] == mark:\n",
        "        return True\n",
        "    if board[3] == board[5] == board[7] == mark:\n",
        "        return True\n",
        "    return False\n",
        "\n",
        "\n",
        "def player_choice(board):\n",
        "    valid_choice = False\n",
        "    word_2_number = {\n",
        "        \"jeden\": 1,\n",
        "        \"dwa\": 2,\n",
        "        \"trzy\": 3,\n",
        "        \"cztery\": 4,\n",
        "        \"pięć\": 5,\n",
        "        \"sześć\": 6,\n",
        "        \"siedem\": 7,\n",
        "        \"osiem\": 8,\n",
        "        \"dziewięć\": 9\n",
        "    }\n",
        "\n",
        "    while not valid_choice:\n",
        "        audio.play_voice(filename='choice_1_9.wav')\n",
        "        prediction = say_and_predict()\n",
        "        predicted_words_list = prediction.split(' ')\n",
        "\n",
        "        for word in predicted_words_list:\n",
        "            if word in word_2_number.keys():\n",
        "                choice = word_2_number[word]\n",
        "                print(choice)\n",
        "                if space_check(board, int(choice)):\n",
        "                    return choice\n",
        "                else:\n",
        "                    audio.play_voice(filename='space_is_used.wav')\n",
        "                    break\n",
        "\n",
        "        audio.play_voice(filename='say_it_again.wav')\n",
        "        time.sleep(3.5)\n",
        "\n",
        "\n",
        "def replay():\n",
        "    audio.play_voice(filename='play_again.wav')\n",
        "    prediction = say_and_predict()\n",
        "\n",
        "    if prediction == 'tak':\n",
        "        return True\n",
        "    if prediction == 'nie':\n",
        "        return False\n",
        "\n",
        "\n",
        "if __name__ == \"__main__\":\n",
        "    print('Witaj w grze kółko i krzyżyk')\n",
        "    i = 1\n",
        "    # Choose your side\n",
        "    players = start_game()\n",
        "    # Empty board init\n",
        "    board = ['#'] * 10\n",
        "    while True:\n",
        "        # Set the game up here\n",
        "        game_on = full_board_check(board)\n",
        "        while not game_on:\n",
        "            # Player to choose where to put the mark\n",
        "            position = player_choice(board)\n",
        "            # Who's playin ?\n",
        "            if i % 2 == 0:\n",
        "                marker = players[1]\n",
        "                audio.play_voice(filename='X_turn.wav')\n",
        "            else:\n",
        "                marker = players[0]\n",
        "                audio.play_voice(filename='O_turn.wav')\n",
        "            # Play !\n",
        "            place_marker(board, marker, int(position))\n",
        "            # Check the board\n",
        "            display_board(board)\n",
        "            i += 1\n",
        "            if win_check(board, marker):\n",
        "                if marker == 'X':\n",
        "                    audio.play_voice(filename='X_won.wav')\n",
        "                else:\n",
        "                    audio.play_voice(filename='O_won.wav')\n",
        "\n",
        "                break\n",
        "            game_on = full_board_check(board)\n",
        "        if not replay():\n",
        "            break\n",
        "        else:\n",
        "            i = 1\n",
        "            # Choose your side\n",
        "            players = start_game()\n",
        "            # Empty board init\n",
        "            board = ['#'] * 10\n"
      ],
      "metadata": {
        "id": "J7C-iy_iCjI-"
      },
      "execution_count": null,
      "outputs": []
    }
  ]
}